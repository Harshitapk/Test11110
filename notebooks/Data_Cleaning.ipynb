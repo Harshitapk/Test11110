{
 "cells": [
  {
   "cell_type": "code",
   "execution_count": 10,
   "id": "a0afdedd-9eb5-4571-81ef-823d4fb0b36b",
   "metadata": {
    "tags": []
   },
   "outputs": [],
   "source": [
    "import pandas as pd\n",
    "\n",
    "# Read CSV file into a DataFrame\n",
    "Calgary_df = pd.read_csv('../data/Calgary.csv')\n",
    "Edmonton_df = pd.read_csv('../data/Edmonton.csv')\n",
    "Montreal_df = pd.read_csv('../data/Montreal.csv')\n",
    "Ottawa_df = pd.read_csv('../data/Ottawa.csv')\n",
    "Quebec_df = pd.read_csv('../data/Quebec.csv')\n",
    "Toronto_df = pd.read_csv('../data/Toronto.csv')\n",
    "Vancouver_df = pd.read_csv('../data/Vancouver.csv')\n",
    "Winnipeg_df = pd.read_csv('../data/Winnipeg.csv')\n",
    "\n",
    "# Now, df contains your data from the CSV file\n",
    "All_Cities=pd.concat([Calgary_df,\n",
    "Edmonton_df,\n",
    "Montreal_df,\n",
    "Ottawa_df,\n",
    "Quebec_df,\n",
    "Toronto_df,\n",
    "Vancouver_df,\n",
    "Winnipeg_df],axis=0)"
   ]
  },
  {
   "cell_type": "code",
   "execution_count": 11,
   "id": "92262b81-7569-4062-aa8e-7a1210fcf93c",
   "metadata": {
    "tags": []
   },
   "outputs": [
    {
     "name": "stdout",
     "output_type": "stream",
     "text": [
      "<class 'pandas.core.frame.DataFrame'>\n",
      "Index: 5519 entries, 0 to 547\n",
      "Data columns (total 14 columns):\n",
      " #   Column         Non-Null Count  Dtype  \n",
      "---  ------         --------------  -----  \n",
      " 0   Name           5519 non-null   object \n",
      " 1   Categories     5517 non-null   object \n",
      " 2   Cuisine Types  5517 non-null   object \n",
      " 3   Nationalities  3019 non-null   object \n",
      " 4   Rating         5519 non-null   float64\n",
      " 5   Address        5519 non-null   object \n",
      " 6   Res_Latitude   5519 non-null   float64\n",
      " 7   Res_Longitude  5519 non-null   float64\n",
      " 8   Reviews        5519 non-null   int64  \n",
      " 9   Distance       5519 non-null   float64\n",
      " 10  Phone          5374 non-null   float64\n",
      " 11  Closed         5519 non-null   bool   \n",
      " 12  Price          5519 non-null   object \n",
      " 13  City           5519 non-null   object \n",
      "dtypes: bool(1), float64(5), int64(1), object(7)\n",
      "memory usage: 609.0+ KB\n"
     ]
    }
   ],
   "source": [
    "All_Cities.info()"
   ]
  },
  {
   "cell_type": "code",
   "execution_count": 12,
   "id": "dad99dd7-f064-4840-9bc3-12b026017075",
   "metadata": {
    "tags": []
   },
   "outputs": [
    {
     "name": "stdout",
     "output_type": "stream",
     "text": [
      "/Users/harshita/Downloads/Final_project/notebooks\n"
     ]
    }
   ],
   "source": [
    "import os\n",
    "print(os.getcwd())\n",
    "os.chdir('/Users/harshita/Downloads/Final_project/notebooks')"
   ]
  },
  {
   "cell_type": "code",
   "execution_count": 13,
   "id": "a4ee6e2b-8c02-4fa4-85a2-0d847e59776a",
   "metadata": {
    "tags": []
   },
   "outputs": [
    {
     "data": {
      "text/html": [
       "<div>\n",
       "<style scoped>\n",
       "    .dataframe tbody tr th:only-of-type {\n",
       "        vertical-align: middle;\n",
       "    }\n",
       "\n",
       "    .dataframe tbody tr th {\n",
       "        vertical-align: top;\n",
       "    }\n",
       "\n",
       "    .dataframe thead th {\n",
       "        text-align: right;\n",
       "    }\n",
       "</style>\n",
       "<table border=\"1\" class=\"dataframe\">\n",
       "  <thead>\n",
       "    <tr style=\"text-align: right;\">\n",
       "      <th></th>\n",
       "      <th>Rating</th>\n",
       "      <th>Res_Latitude</th>\n",
       "      <th>Res_Longitude</th>\n",
       "      <th>Reviews</th>\n",
       "      <th>Distance</th>\n",
       "      <th>Phone</th>\n",
       "    </tr>\n",
       "  </thead>\n",
       "  <tbody>\n",
       "    <tr>\n",
       "      <th>count</th>\n",
       "      <td>5519.000000</td>\n",
       "      <td>5519.000000</td>\n",
       "      <td>5519.000000</td>\n",
       "      <td>5519.000000</td>\n",
       "      <td>5519.000000</td>\n",
       "      <td>5.374000e+03</td>\n",
       "    </tr>\n",
       "    <tr>\n",
       "      <th>mean</th>\n",
       "      <td>3.781301</td>\n",
       "      <td>47.362453</td>\n",
       "      <td>-92.117593</td>\n",
       "      <td>83.938395</td>\n",
       "      <td>1277.453502</td>\n",
       "      <td>1.531903e+10</td>\n",
       "    </tr>\n",
       "    <tr>\n",
       "      <th>std</th>\n",
       "      <td>0.832472</td>\n",
       "      <td>3.266786</td>\n",
       "      <td>19.616967</td>\n",
       "      <td>193.856885</td>\n",
       "      <td>1193.233877</td>\n",
       "      <td>1.763289e+09</td>\n",
       "    </tr>\n",
       "    <tr>\n",
       "      <th>min</th>\n",
       "      <td>1.000000</td>\n",
       "      <td>37.294701</td>\n",
       "      <td>-123.211153</td>\n",
       "      <td>1.000000</td>\n",
       "      <td>5.870000</td>\n",
       "      <td>1.204219e+10</td>\n",
       "    </tr>\n",
       "    <tr>\n",
       "      <th>25%</th>\n",
       "      <td>3.500000</td>\n",
       "      <td>45.356841</td>\n",
       "      <td>-113.632038</td>\n",
       "      <td>6.000000</td>\n",
       "      <td>583.400000</td>\n",
       "      <td>1.416488e+10</td>\n",
       "    </tr>\n",
       "    <tr>\n",
       "      <th>50%</th>\n",
       "      <td>4.000000</td>\n",
       "      <td>45.575260</td>\n",
       "      <td>-79.463710</td>\n",
       "      <td>23.000000</td>\n",
       "      <td>1013.470000</td>\n",
       "      <td>1.514722e+10</td>\n",
       "    </tr>\n",
       "    <tr>\n",
       "      <th>75%</th>\n",
       "      <td>4.500000</td>\n",
       "      <td>49.870489</td>\n",
       "      <td>-75.621852</td>\n",
       "      <td>82.000000</td>\n",
       "      <td>1633.425000</td>\n",
       "      <td>1.613695e+10</td>\n",
       "    </tr>\n",
       "    <tr>\n",
       "      <th>max</th>\n",
       "      <td>5.000000</td>\n",
       "      <td>53.713942</td>\n",
       "      <td>-71.145570</td>\n",
       "      <td>4124.000000</td>\n",
       "      <td>39042.750000</td>\n",
       "      <td>1.905956e+10</td>\n",
       "    </tr>\n",
       "  </tbody>\n",
       "</table>\n",
       "</div>"
      ],
      "text/plain": [
       "            Rating  Res_Latitude  Res_Longitude      Reviews      Distance  \\\n",
       "count  5519.000000   5519.000000    5519.000000  5519.000000   5519.000000   \n",
       "mean      3.781301     47.362453     -92.117593    83.938395   1277.453502   \n",
       "std       0.832472      3.266786      19.616967   193.856885   1193.233877   \n",
       "min       1.000000     37.294701    -123.211153     1.000000      5.870000   \n",
       "25%       3.500000     45.356841    -113.632038     6.000000    583.400000   \n",
       "50%       4.000000     45.575260     -79.463710    23.000000   1013.470000   \n",
       "75%       4.500000     49.870489     -75.621852    82.000000   1633.425000   \n",
       "max       5.000000     53.713942     -71.145570  4124.000000  39042.750000   \n",
       "\n",
       "              Phone  \n",
       "count  5.374000e+03  \n",
       "mean   1.531903e+10  \n",
       "std    1.763289e+09  \n",
       "min    1.204219e+10  \n",
       "25%    1.416488e+10  \n",
       "50%    1.514722e+10  \n",
       "75%    1.613695e+10  \n",
       "max    1.905956e+10  "
      ]
     },
     "execution_count": 13,
     "metadata": {},
     "output_type": "execute_result"
    }
   ],
   "source": [
    "All_Cities.describe()"
   ]
  },
  {
   "cell_type": "code",
   "execution_count": 14,
   "id": "09883a1b-8750-4737-a7d8-09fcb574f14a",
   "metadata": {
    "tags": []
   },
   "outputs": [
    {
     "data": {
      "text/plain": [
       "(5519, 14)"
      ]
     },
     "execution_count": 14,
     "metadata": {},
     "output_type": "execute_result"
    }
   ],
   "source": [
    "All_Cities.shape"
   ]
  },
  {
   "cell_type": "code",
   "execution_count": 15,
   "id": "d2d065d2-ef7b-445b-a98b-55c841a31ff8",
   "metadata": {
    "tags": []
   },
   "outputs": [
    {
     "name": "stdout",
     "output_type": "stream",
     "text": [
      "Name                0\n",
      "Categories          2\n",
      "Cuisine Types       2\n",
      "Nationalities    2500\n",
      "Rating              0\n",
      "Address             0\n",
      "Res_Latitude        0\n",
      "Res_Longitude       0\n",
      "Reviews             0\n",
      "Distance            0\n",
      "Phone             145\n",
      "Closed              0\n",
      "Price               0\n",
      "City                0\n",
      "dtype: int64\n"
     ]
    }
   ],
   "source": [
    "print(All_Cities.isnull().sum())"
   ]
  },
  {
   "cell_type": "code",
   "execution_count": 13,
   "id": "5ecba346-e73a-47c5-98ff-63151e674990",
   "metadata": {
    "tags": []
   },
   "outputs": [],
   "source": [
    "All_Cities['Price'].fillna(method='ffill', inplace=True)"
   ]
  },
  {
   "cell_type": "code",
   "execution_count": 34,
   "id": "87844cce-d28c-46e1-ada5-275c712ec597",
   "metadata": {
    "tags": []
   },
   "outputs": [],
   "source": [
    "columns_to_fill = ['Nationalities']\n",
    "All_Cities[columns_to_fill] = All_Cities[columns_to_fill].fillna('NA')"
   ]
  },
  {
   "cell_type": "code",
   "execution_count": 35,
   "id": "3235ad3e-6dc1-4c70-88f2-1c1548471665",
   "metadata": {
    "tags": []
   },
   "outputs": [
    {
     "name": "stdout",
     "output_type": "stream",
     "text": [
      "Name                0\n",
      "Categories          0\n",
      "Cuisine Types    2435\n",
      "Nationalities       0\n",
      "Rating              0\n",
      "Address             0\n",
      "Res_Latitude        0\n",
      "Res_Longitude       0\n",
      "Reviews             0\n",
      "Distance            0\n",
      "Phone               0\n",
      "Closed              0\n",
      "Price               0\n",
      "dtype: int64\n"
     ]
    }
   ],
   "source": [
    "print(All_Cities.isnull().sum())"
   ]
  },
  {
   "cell_type": "code",
   "execution_count": 18,
   "id": "b6a025b6-ceff-4d95-a9ef-85ce156dbaca",
   "metadata": {
    "tags": []
   },
   "outputs": [
    {
     "data": {
      "text/html": [
       "<div>\n",
       "<style scoped>\n",
       "    .dataframe tbody tr th:only-of-type {\n",
       "        vertical-align: middle;\n",
       "    }\n",
       "\n",
       "    .dataframe tbody tr th {\n",
       "        vertical-align: top;\n",
       "    }\n",
       "\n",
       "    .dataframe thead th {\n",
       "        text-align: right;\n",
       "    }\n",
       "</style>\n",
       "<table border=\"1\" class=\"dataframe\">\n",
       "  <thead>\n",
       "    <tr style=\"text-align: right;\">\n",
       "      <th></th>\n",
       "      <th>Name</th>\n",
       "      <th>Categories</th>\n",
       "      <th>Cuisine Types</th>\n",
       "      <th>Nationalities</th>\n",
       "      <th>Rating</th>\n",
       "      <th>Address</th>\n",
       "      <th>Res_Latitude</th>\n",
       "      <th>Res_Longitude</th>\n",
       "      <th>Reviews</th>\n",
       "      <th>Distance</th>\n",
       "      <th>Phone</th>\n",
       "      <th>Closed</th>\n",
       "      <th>Price</th>\n",
       "    </tr>\n",
       "  </thead>\n",
       "  <tbody>\n",
       "    <tr>\n",
       "      <th>0</th>\n",
       "      <td>Le Fin Gourmet</td>\n",
       "      <td>Canadian (New), Burgers, Breakfast &amp; Brunch</td>\n",
       "      <td>Burgers</td>\n",
       "      <td>Canadian (New)</td>\n",
       "      <td>4.5</td>\n",
       "      <td>774 Rue Raoul-Jobin, Quebec City</td>\n",
       "      <td>46.806850</td>\n",
       "      <td>-71.245840</td>\n",
       "      <td>15</td>\n",
       "      <td>2175.481757</td>\n",
       "      <td>14186825849.0</td>\n",
       "      <td>False</td>\n",
       "      <td>$$</td>\n",
       "    </tr>\n",
       "    <tr>\n",
       "      <th>1</th>\n",
       "      <td>L'Oeuforie</td>\n",
       "      <td>Steakhouses, Breakfast &amp; Brunch</td>\n",
       "      <td>Steakhouses</td>\n",
       "      <td>NaN</td>\n",
       "      <td>4.0</td>\n",
       "      <td>850 Boulevard Pierre-Bertrand, Vanier</td>\n",
       "      <td>46.826615</td>\n",
       "      <td>-71.273329</td>\n",
       "      <td>7</td>\n",
       "      <td>897.748230</td>\n",
       "      <td>14186814419.0</td>\n",
       "      <td>False</td>\n",
       "      <td>$$</td>\n",
       "    </tr>\n",
       "    <tr>\n",
       "      <th>2</th>\n",
       "      <td>Casa Grecque</td>\n",
       "      <td>Greek</td>\n",
       "      <td>NaN</td>\n",
       "      <td>Greek</td>\n",
       "      <td>4.0</td>\n",
       "      <td>955 Boulevard Pierre-Bertrand, Quebec City</td>\n",
       "      <td>46.827170</td>\n",
       "      <td>-71.275680</td>\n",
       "      <td>5</td>\n",
       "      <td>1108.444575</td>\n",
       "      <td>14185271210.0</td>\n",
       "      <td>False</td>\n",
       "      <td>$$</td>\n",
       "    </tr>\n",
       "    <tr>\n",
       "      <th>3</th>\n",
       "      <td>Le Soleil Rouge</td>\n",
       "      <td>Breakfast &amp; Brunch</td>\n",
       "      <td>NaN</td>\n",
       "      <td>NaN</td>\n",
       "      <td>5.0</td>\n",
       "      <td>380A Avenue Turcotte, Ville de Québec</td>\n",
       "      <td>46.821480</td>\n",
       "      <td>-71.257520</td>\n",
       "      <td>2</td>\n",
       "      <td>450.240401</td>\n",
       "      <td>NA</td>\n",
       "      <td>False</td>\n",
       "      <td>$$</td>\n",
       "    </tr>\n",
       "    <tr>\n",
       "      <th>4</th>\n",
       "      <td>Chez Ashton</td>\n",
       "      <td>Burgers, Hot Dogs, Poutineries</td>\n",
       "      <td>Burgers</td>\n",
       "      <td>NaN</td>\n",
       "      <td>4.0</td>\n",
       "      <td>550 Boulevard Wilfrid-Hamel, Quebec City</td>\n",
       "      <td>46.821440</td>\n",
       "      <td>-71.251607</td>\n",
       "      <td>1</td>\n",
       "      <td>908.555722</td>\n",
       "      <td>14186480895.0</td>\n",
       "      <td>False</td>\n",
       "      <td>$$</td>\n",
       "    </tr>\n",
       "  </tbody>\n",
       "</table>\n",
       "</div>"
      ],
      "text/plain": [
       "              Name                                   Categories Cuisine Types  \\\n",
       "0   Le Fin Gourmet  Canadian (New), Burgers, Breakfast & Brunch       Burgers   \n",
       "1       L'Oeuforie              Steakhouses, Breakfast & Brunch   Steakhouses   \n",
       "2     Casa Grecque                                        Greek           NaN   \n",
       "3  Le Soleil Rouge                           Breakfast & Brunch           NaN   \n",
       "4      Chez Ashton               Burgers, Hot Dogs, Poutineries       Burgers   \n",
       "\n",
       "    Nationalities  Rating                                     Address  \\\n",
       "0  Canadian (New)     4.5            774 Rue Raoul-Jobin, Quebec City   \n",
       "1             NaN     4.0       850 Boulevard Pierre-Bertrand, Vanier   \n",
       "2           Greek     4.0  955 Boulevard Pierre-Bertrand, Quebec City   \n",
       "3             NaN     5.0       380A Avenue Turcotte, Ville de Québec   \n",
       "4             NaN     4.0    550 Boulevard Wilfrid-Hamel, Quebec City   \n",
       "\n",
       "   Res_Latitude  Res_Longitude  Reviews     Distance          Phone  Closed  \\\n",
       "0     46.806850     -71.245840       15  2175.481757  14186825849.0   False   \n",
       "1     46.826615     -71.273329        7   897.748230  14186814419.0   False   \n",
       "2     46.827170     -71.275680        5  1108.444575  14185271210.0   False   \n",
       "3     46.821480     -71.257520        2   450.240401             NA   False   \n",
       "4     46.821440     -71.251607        1   908.555722  14186480895.0   False   \n",
       "\n",
       "  Price  \n",
       "0    $$  \n",
       "1    $$  \n",
       "2    $$  \n",
       "3    $$  \n",
       "4    $$  "
      ]
     },
     "execution_count": 18,
     "metadata": {},
     "output_type": "execute_result"
    }
   ],
   "source": [
    "All_Cities.head()"
   ]
  },
  {
   "cell_type": "code",
   "execution_count": 36,
   "id": "62e4d135-4262-423a-9029-cf39a098f6db",
   "metadata": {
    "tags": []
   },
   "outputs": [
    {
     "data": {
      "text/html": [
       "<div>\n",
       "<style scoped>\n",
       "    .dataframe tbody tr th:only-of-type {\n",
       "        vertical-align: middle;\n",
       "    }\n",
       "\n",
       "    .dataframe tbody tr th {\n",
       "        vertical-align: top;\n",
       "    }\n",
       "\n",
       "    .dataframe thead th {\n",
       "        text-align: right;\n",
       "    }\n",
       "</style>\n",
       "<table border=\"1\" class=\"dataframe\">\n",
       "  <thead>\n",
       "    <tr style=\"text-align: right;\">\n",
       "      <th></th>\n",
       "      <th>Name</th>\n",
       "      <th>Categories</th>\n",
       "      <th>Cuisine Types</th>\n",
       "      <th>Nationalities</th>\n",
       "      <th>Rating</th>\n",
       "      <th>Address</th>\n",
       "      <th>Res_Latitude</th>\n",
       "      <th>Res_Longitude</th>\n",
       "      <th>Reviews</th>\n",
       "      <th>Distance</th>\n",
       "      <th>Phone</th>\n",
       "      <th>Closed</th>\n",
       "      <th>Price</th>\n",
       "    </tr>\n",
       "  </thead>\n",
       "  <tbody>\n",
       "    <tr>\n",
       "      <th>0</th>\n",
       "      <td>Le Fin Gourmet</td>\n",
       "      <td>Canadian (New), Burgers, Breakfast &amp; Brunch</td>\n",
       "      <td>Burgers</td>\n",
       "      <td>Canadian (New)</td>\n",
       "      <td>4.5</td>\n",
       "      <td>774 Rue Raoul-Jobin, Quebec City</td>\n",
       "      <td>46.806850</td>\n",
       "      <td>-71.245840</td>\n",
       "      <td>15</td>\n",
       "      <td>2175.481757</td>\n",
       "      <td>14186825849.0</td>\n",
       "      <td>False</td>\n",
       "      <td>$$</td>\n",
       "    </tr>\n",
       "    <tr>\n",
       "      <th>1</th>\n",
       "      <td>L'Oeuforie</td>\n",
       "      <td>Steakhouses, Breakfast &amp; Brunch</td>\n",
       "      <td>Steakhouses</td>\n",
       "      <td>NA</td>\n",
       "      <td>4.0</td>\n",
       "      <td>850 Boulevard Pierre-Bertrand, Vanier</td>\n",
       "      <td>46.826615</td>\n",
       "      <td>-71.273329</td>\n",
       "      <td>7</td>\n",
       "      <td>897.748230</td>\n",
       "      <td>14186814419.0</td>\n",
       "      <td>False</td>\n",
       "      <td>$$</td>\n",
       "    </tr>\n",
       "    <tr>\n",
       "      <th>2</th>\n",
       "      <td>Casa Grecque</td>\n",
       "      <td>Greek</td>\n",
       "      <td>Greek</td>\n",
       "      <td>Greek</td>\n",
       "      <td>4.0</td>\n",
       "      <td>955 Boulevard Pierre-Bertrand, Quebec City</td>\n",
       "      <td>46.827170</td>\n",
       "      <td>-71.275680</td>\n",
       "      <td>5</td>\n",
       "      <td>1108.444575</td>\n",
       "      <td>14185271210.0</td>\n",
       "      <td>False</td>\n",
       "      <td>$$</td>\n",
       "    </tr>\n",
       "    <tr>\n",
       "      <th>3</th>\n",
       "      <td>Le Soleil Rouge</td>\n",
       "      <td>Breakfast &amp; Brunch</td>\n",
       "      <td>Breakfast &amp; Brunch</td>\n",
       "      <td>NA</td>\n",
       "      <td>5.0</td>\n",
       "      <td>380A Avenue Turcotte, Ville de Québec</td>\n",
       "      <td>46.821480</td>\n",
       "      <td>-71.257520</td>\n",
       "      <td>2</td>\n",
       "      <td>450.240401</td>\n",
       "      <td>NA</td>\n",
       "      <td>False</td>\n",
       "      <td>$$</td>\n",
       "    </tr>\n",
       "    <tr>\n",
       "      <th>4</th>\n",
       "      <td>Chez Ashton</td>\n",
       "      <td>Burgers, Hot Dogs, Poutineries</td>\n",
       "      <td>Burgers</td>\n",
       "      <td>NA</td>\n",
       "      <td>4.0</td>\n",
       "      <td>550 Boulevard Wilfrid-Hamel, Quebec City</td>\n",
       "      <td>46.821440</td>\n",
       "      <td>-71.251607</td>\n",
       "      <td>1</td>\n",
       "      <td>908.555722</td>\n",
       "      <td>14186480895.0</td>\n",
       "      <td>False</td>\n",
       "      <td>$$</td>\n",
       "    </tr>\n",
       "  </tbody>\n",
       "</table>\n",
       "</div>"
      ],
      "text/plain": [
       "              Name                                   Categories  \\\n",
       "0   Le Fin Gourmet  Canadian (New), Burgers, Breakfast & Brunch   \n",
       "1       L'Oeuforie              Steakhouses, Breakfast & Brunch   \n",
       "2     Casa Grecque                                        Greek   \n",
       "3  Le Soleil Rouge                           Breakfast & Brunch   \n",
       "4      Chez Ashton               Burgers, Hot Dogs, Poutineries   \n",
       "\n",
       "        Cuisine Types   Nationalities  Rating  \\\n",
       "0             Burgers  Canadian (New)     4.5   \n",
       "1         Steakhouses              NA     4.0   \n",
       "2               Greek           Greek     4.0   \n",
       "3  Breakfast & Brunch              NA     5.0   \n",
       "4             Burgers              NA     4.0   \n",
       "\n",
       "                                      Address  Res_Latitude  Res_Longitude  \\\n",
       "0            774 Rue Raoul-Jobin, Quebec City     46.806850     -71.245840   \n",
       "1       850 Boulevard Pierre-Bertrand, Vanier     46.826615     -71.273329   \n",
       "2  955 Boulevard Pierre-Bertrand, Quebec City     46.827170     -71.275680   \n",
       "3       380A Avenue Turcotte, Ville de Québec     46.821480     -71.257520   \n",
       "4    550 Boulevard Wilfrid-Hamel, Quebec City     46.821440     -71.251607   \n",
       "\n",
       "   Reviews     Distance          Phone  Closed Price  \n",
       "0       15  2175.481757  14186825849.0   False    $$  \n",
       "1        7   897.748230  14186814419.0   False    $$  \n",
       "2        5  1108.444575  14185271210.0   False    $$  \n",
       "3        2   450.240401             NA   False    $$  \n",
       "4        1   908.555722  14186480895.0   False    $$  "
      ]
     },
     "execution_count": 36,
     "metadata": {},
     "output_type": "execute_result"
    }
   ],
   "source": [
    "import pandas as pd\n",
    "import numpy as np\n",
    "def fill_cuisine(row):\n",
    "    if pd.notnull(row['Cuisine Types']):\n",
    "        return row['Cuisine Types']\n",
    "    categories = row['Categories'].split(', ')\n",
    "    if len(categories) > 0:\n",
    "        return categories[0]\n",
    "    return np.nan\n",
    "\n",
    "# Apply the function to fill 'Cuisine Types'\n",
    "All_Cities['Cuisine Types'] = All_Cities.apply(fill_cuisine, axis=1)\n",
    "\n",
    "# Print the updated DataFrame\n",
    "All_Cities.head()"
   ]
  },
  {
   "cell_type": "code",
   "execution_count": 37,
   "id": "2424c1f3-e7eb-4b98-b1c2-de0aba28bea9",
   "metadata": {
    "tags": []
   },
   "outputs": [
    {
     "name": "stdout",
     "output_type": "stream",
     "text": [
      "Name             0\n",
      "Categories       0\n",
      "Cuisine Types    0\n",
      "Nationalities    0\n",
      "Rating           0\n",
      "Address          0\n",
      "Res_Latitude     0\n",
      "Res_Longitude    0\n",
      "Reviews          0\n",
      "Distance         0\n",
      "Phone            0\n",
      "Closed           0\n",
      "Price            0\n",
      "dtype: int64\n"
     ]
    }
   ],
   "source": [
    "print(All_Cities.isnull().sum())"
   ]
  },
  {
   "cell_type": "code",
   "execution_count": 23,
   "id": "3b4591af-1ee9-450e-ab00-d1a5b62107e8",
   "metadata": {
    "tags": []
   },
   "outputs": [
    {
     "name": "stdout",
     "output_type": "stream",
     "text": [
      "<class 'pandas.core.frame.DataFrame'>\n",
      "RangeIndex: 357 entries, 0 to 356\n",
      "Data columns (total 13 columns):\n",
      " #   Column         Non-Null Count  Dtype  \n",
      "---  ------         --------------  -----  \n",
      " 0   Name           357 non-null    object \n",
      " 1   Categories     356 non-null    object \n",
      " 2   Cuisine Types  192 non-null    object \n",
      " 3   Nationalities  167 non-null    object \n",
      " 4   Rating         357 non-null    float64\n",
      " 5   Address        357 non-null    object \n",
      " 6   Res_Latitude   357 non-null    float64\n",
      " 7   Res_Longitude  357 non-null    float64\n",
      " 8   Reviews        357 non-null    int64  \n",
      " 9   Distance       357 non-null    float64\n",
      " 10  Phone          351 non-null    float64\n",
      " 11  Closed         357 non-null    bool   \n",
      " 12  Price          199 non-null    object \n",
      "dtypes: bool(1), float64(5), int64(1), object(6)\n",
      "memory usage: 33.9+ KB\n"
     ]
    }
   ],
   "source": [
    "Calgary_df.info()"
   ]
  },
  {
   "cell_type": "code",
   "execution_count": 38,
   "id": "34123219-f0e8-456a-9a54-e6b435d4830e",
   "metadata": {
    "tags": []
   },
   "outputs": [],
   "source": [
    "All_Cities.to_csv('All_Cities.csv', index=False) "
   ]
  },
  {
   "cell_type": "code",
   "execution_count": 5,
   "id": "bd88d112-f0a0-49a2-99f2-013d22d78bbb",
   "metadata": {},
   "outputs": [],
   "source": [
    "All_Cities.to_excel('../data/All_Cities.xlsx', index=False)  # This will create 'output.xlsx' in the current working directory"
   ]
  },
  {
   "cell_type": "code",
   "execution_count": null,
   "id": "46e30889-2c33-42e1-bb92-968182e77b3f",
   "metadata": {},
   "outputs": [],
   "source": []
  }
 ],
 "metadata": {
  "kernelspec": {
   "display_name": "Python 3 (ipykernel)",
   "language": "python",
   "name": "python3"
  },
  "language_info": {
   "codemirror_mode": {
    "name": "ipython",
    "version": 3
   },
   "file_extension": ".py",
   "mimetype": "text/x-python",
   "name": "python",
   "nbconvert_exporter": "python",
   "pygments_lexer": "ipython3",
   "version": "3.11.5"
  }
 },
 "nbformat": 4,
 "nbformat_minor": 5
}
